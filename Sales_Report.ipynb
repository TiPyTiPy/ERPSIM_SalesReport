{
 "cells": [
  {
   "cell_type": "markdown",
   "metadata": {},
   "source": [
    "# Introduction\n",
    "State notebook purpose here"
   ]
  },
  {
   "cell_type": "markdown",
   "metadata": {},
   "source": [
    "### Imports\n",
    "Import libraries and write settings here."
   ]
  },
  {
   "cell_type": "code",
   "execution_count": 18,
   "metadata": {
    "ExecuteTime": {
     "end_time": "2019-08-18T18:31:53.717594Z",
     "start_time": "2019-08-18T18:31:53.696705Z"
    }
   },
   "outputs": [
    {
     "data": {
      "text/html": [
       "<style>.container { width:90% !important;}</style>"
      ],
      "text/plain": [
       "<IPython.core.display.HTML object>"
      ]
     },
     "metadata": {},
     "output_type": "display_data"
    },
    {
     "data": {
      "text/html": [
       "<style>\n",
       ".output {\n",
       "    flex-direction: row;\n",
       "}\n",
       "div.output pre {\n",
       "    font-size: 12pt;\n",
       "}\n",
       "</style>"
      ],
      "text/plain": [
       "<IPython.core.display.HTML object>"
      ]
     },
     "execution_count": 18,
     "metadata": {},
     "output_type": "execute_result"
    },
    {
     "data": {
      "text/html": [
       "        <script type=\"text/javascript\">\n",
       "        window.PlotlyConfig = {MathJaxConfig: 'local'};\n",
       "        if (window.MathJax) {MathJax.Hub.Config({SVG: {font: \"STIX-Web\"}});}\n",
       "        if (typeof require !== 'undefined') {\n",
       "        require.undef(\"plotly\");\n",
       "        requirejs.config({\n",
       "            paths: {\n",
       "                'plotly': ['https://cdn.plot.ly/plotly-latest.min']\n",
       "            }\n",
       "        });\n",
       "        require(['plotly'], function(Plotly) {\n",
       "            window._Plotly = Plotly;\n",
       "        });\n",
       "        }\n",
       "        </script>\n",
       "        "
      ]
     },
     "metadata": {},
     "output_type": "display_data"
    },
    {
     "data": {
      "text/html": [
       "        <script type=\"text/javascript\">\n",
       "        window.PlotlyConfig = {MathJaxConfig: 'local'};\n",
       "        if (window.MathJax) {MathJax.Hub.Config({SVG: {font: \"STIX-Web\"}});}\n",
       "        if (typeof require !== 'undefined') {\n",
       "        require.undef(\"plotly\");\n",
       "        requirejs.config({\n",
       "            paths: {\n",
       "                'plotly': ['https://cdn.plot.ly/plotly-latest.min']\n",
       "            }\n",
       "        });\n",
       "        require(['plotly'], function(Plotly) {\n",
       "            window._Plotly = Plotly;\n",
       "        });\n",
       "        }\n",
       "        </script>\n",
       "        "
      ]
     },
     "metadata": {},
     "output_type": "display_data"
    }
   ],
   "source": [
    "# Data manipulation\n",
    "import pandas as pd\n",
    "import numpy as np\n",
    "# Options for pandas\n",
    "pd.options.display.max_columns = 50\n",
    "pd.options.display.max_rows = 90\n",
    "# Display all cell outputs\n",
    "from IPython.core.display import display, HTML\n",
    "display(HTML(\"<style>.container { width:90% !important;}</style>\"))\n",
    "#display(HTML(\"<style>.rendered_html { font-size: 12px; }</style>\"))\n",
    "CSS = \"\"\"\n",
    ".output {\n",
    "    flex-direction: row;\n",
    "}\n",
    "div.output pre {\n",
    "    font-size: 12pt;\n",
    "}\n",
    "\"\"\"\n",
    "#font-size: 30px;\n",
    "HTML('<style>{}</style>'.format(CSS))\n",
    "\n",
    "from IPython.core.interactiveshell import InteractiveShell\n",
    "InteractiveShell.ast_node_interactivity = 'all'\n",
    "from IPython import get_ipython\n",
    "ipython = get_ipython()\n",
    "# autoreload extension\n",
    "if 'autoreload' not in ipython.extension_manager.loaded:\n",
    "    %load_ext autoreload\n",
    "%autoreload 2\n",
    "# Visualizations\n",
    "from matplotlib import pyplot as plt\n",
    "import plotly.plotly as py\n",
    "import plotly.graph_objs as go\n",
    "from plotly.offline import iplot, init_notebook_mode\n",
    "init_notebook_mode(connected=True)\n",
    "import cufflinks as cf\n",
    "cf.go_offline(connected=True)\n",
    "cf.set_config_file(theme='white')\n",
    "\n",
    "import requests\n",
    "import json\n",
    "import os\n",
    "import csv\n",
    "\n",
    "import ipywidgets as widgets\n",
    "from ipywidgets import interact, interact_manual\n"
   ]
  },
  {
   "cell_type": "code",
   "execution_count": 19,
   "metadata": {
    "ExecuteTime": {
     "end_time": "2019-08-18T18:31:53.733415Z",
     "start_time": "2019-08-18T18:31:53.719336Z"
    }
   },
   "outputs": [],
   "source": [
    "url_base = \"http://sapvm2.hec.ca:8010/ERPsim/OData/erpsim.xsodata/\"\n",
    "json_format = '?$format=json'\n",
    "mdp = \"ERPSIM1\""
   ]
  },
  {
   "cell_type": "code",
   "execution_count": 20,
   "metadata": {
    "ExecuteTime": {
     "end_time": "2019-08-18T18:31:58.567796Z",
     "start_time": "2019-08-18T18:31:53.734409Z"
    }
   },
   "outputs": [],
   "source": [
    "liste_df = []\n",
    "#path_dump = os.getcwd() + '/dump/'\n",
    "\n",
    "dirpath = os.getcwd() + \"/sets/\"\n",
    "df_entity = pd.read_csv(dirpath + \"entitySets.csv\")\n",
    "\n",
    "for j in range(len(df_entity)):\n",
    "    url_1 = url_base + df_entity['keys'].loc[j] + json_format\n",
    "    response = requests.get(url_1,auth=(\"416K\",mdp))\n",
    "    data = response.json()\n",
    "    df_temp = pd.DataFrame.from_dict(data['d']['results'])\n",
    "    liste_df.append(df_temp)"
   ]
  },
  {
   "cell_type": "markdown",
   "metadata": {},
   "source": [
    "## Préparation du DATAFRAME pour les ventes : df_sales"
   ]
  },
  {
   "cell_type": "code",
   "execution_count": 21,
   "metadata": {
    "ExecuteTime": {
     "end_time": "2019-08-18T18:31:58.599417Z",
     "start_time": "2019-08-18T18:31:58.573037Z"
    }
   },
   "outputs": [],
   "source": [
    "index_sales = df_entity[df_entity['keys'] == 'Sales'].index[0]\n",
    "df_sales = liste_df[index_sales]"
   ]
  },
  {
   "cell_type": "code",
   "execution_count": 22,
   "metadata": {
    "ExecuteTime": {
     "end_time": "2019-08-18T18:31:58.616372Z",
     "start_time": "2019-08-18T18:31:58.600792Z"
    }
   },
   "outputs": [],
   "source": [
    "df_sales['QUANTITY'] = df_sales['QUANTITY'].astype(int)\n",
    "df_sales['NET_VALUE'] = df_sales['NET_VALUE'].astype(float)\n",
    "df_sales['NET_PRICE'] = df_sales['NET_PRICE'].astype(float)\n",
    "df_sales['COST'] = df_sales['COST'].astype(float)"
   ]
  },
  {
   "cell_type": "code",
   "execution_count": 23,
   "metadata": {
    "ExecuteTime": {
     "end_time": "2019-08-18T18:31:58.631431Z",
     "start_time": "2019-08-18T18:31:58.617432Z"
    }
   },
   "outputs": [],
   "source": [
    "df_sales['unit_cost'] = df_sales['COST'] / df_sales['QUANTITY']\n",
    "#df_sales[['SIM_ROUND','SIM_PERIOD','MATERIAL_DESCRIPTION','COST','QUANTITY','NET_PRICE','unit_cost']]"
   ]
  },
  {
   "cell_type": "markdown",
   "metadata": {},
   "source": [
    "## Préparation du DATAFRAME pour le marché : df_market"
   ]
  },
  {
   "cell_type": "code",
   "execution_count": 24,
   "metadata": {
    "ExecuteTime": {
     "end_time": "2019-08-18T18:31:58.649374Z",
     "start_time": "2019-08-18T18:31:58.632387Z"
    }
   },
   "outputs": [],
   "source": [
    "index_market = df_entity[df_entity['keys'] == 'Market'].index[0]\n",
    "df_market = liste_df[index_market]"
   ]
  },
  {
   "cell_type": "code",
   "execution_count": 25,
   "metadata": {
    "ExecuteTime": {
     "end_time": "2019-08-18T18:31:58.666561Z",
     "start_time": "2019-08-18T18:31:58.650370Z"
    }
   },
   "outputs": [],
   "source": [
    "df_market['AVERAGE_PRICE'] = df_market['AVERAGE_PRICE'].astype(float)\n",
    "df_market['NET_VALUE'] = df_market['NET_VALUE'].astype(float)\n",
    "df_market['QUANTITY'] = df_market['QUANTITY'].astype(int)"
   ]
  },
  {
   "cell_type": "code",
   "execution_count": 36,
   "metadata": {
    "ExecuteTime": {
     "end_time": "2019-08-18T18:35:02.119141Z",
     "start_time": "2019-08-18T18:35:02.071388Z"
    }
   },
   "outputs": [],
   "source": [
    "df_market_company = df_market[df_market['SALES_ORGANIZATION'] == 'Company'].drop(['ID','SALES_ORGANIZATION','__metadata'],axis=1)\n",
    "df_market_market = df_market[df_market['SALES_ORGANIZATION'] == 'Market'].drop(['ID','SALES_ORGANIZATION','__metadata'],axis=1)\n",
    "\n",
    "df_market_share = df_market_company.merge(df_market_market, on=['AREA','DISTRIBUTION_CHANNEL','MATERIAL_DESCRIPTION','SIM_PERIOD','SIM_ROUND'])\n",
    "df_market_share['share_value'] = df_market_share['NET_VALUE_x'] / df_market_share['NET_VALUE_y']\n",
    "df_market_share['share_quantity'] = df_market_share['QUANTITY_x'] / df_market_share['QUANTITY_y']"
   ]
  },
  {
   "cell_type": "markdown",
   "metadata": {},
   "source": [
    "## Préparation du DATAFRAME pour les finances : df_finance"
   ]
  },
  {
   "cell_type": "code",
   "execution_count": 27,
   "metadata": {
    "ExecuteTime": {
     "end_time": "2019-08-18T18:31:58.699640Z",
     "start_time": "2019-08-18T18:31:58.688211Z"
    }
   },
   "outputs": [],
   "source": [
    "index_finance = df_entity[df_entity['keys'] == 'FinancialsPostings'].index[0]\n",
    "df_finance = liste_df[index_finance]"
   ]
  },
  {
   "cell_type": "code",
   "execution_count": 28,
   "metadata": {
    "ExecuteTime": {
     "end_time": "2019-08-18T18:31:58.715181Z",
     "start_time": "2019-08-18T18:31:58.700630Z"
    }
   },
   "outputs": [],
   "source": [
    "df_finance['AMOUNT_ABS'] = df_finance['AMOUNT_ABS'].astype(float)\n",
    "df_finance['AMOUNT'] = df_finance['AMOUNT'].astype(float)\n",
    "df_finance['AMOUNT_INV'] = df_finance['AMOUNT_INV'].astype(float)\n",
    "df_finance['AMOUNT_BS'] = df_finance['AMOUNT_BS'].astype(float)\n",
    "df_finance['AMOUNT_IS'] = df_finance['AMOUNT_IS'].astype(float)"
   ]
  },
  {
   "cell_type": "code",
   "execution_count": 29,
   "metadata": {
    "ExecuteTime": {
     "end_time": "2019-08-18T18:31:58.732736Z",
     "start_time": "2019-08-18T18:31:58.716221Z"
    },
    "collapsed": true
   },
   "outputs": [
    {
     "data": {
      "text/html": [
       "<div>\n",
       "<style scoped>\n",
       "    .dataframe tbody tr th:only-of-type {\n",
       "        vertical-align: middle;\n",
       "    }\n",
       "\n",
       "    .dataframe tbody tr th {\n",
       "        vertical-align: top;\n",
       "    }\n",
       "\n",
       "    .dataframe thead th {\n",
       "        text-align: right;\n",
       "    }\n",
       "</style>\n",
       "<table border=\"1\" class=\"dataframe\">\n",
       "  <thead>\n",
       "    <tr style=\"text-align: right;\">\n",
       "      <th></th>\n",
       "      <th>FS_LEVEL_3</th>\n",
       "      <th>FS_LEVEL_2</th>\n",
       "    </tr>\n",
       "  </thead>\n",
       "  <tbody>\n",
       "    <tr>\n",
       "      <th>7</th>\n",
       "      <td>Current assets</td>\n",
       "      <td>Assets</td>\n",
       "    </tr>\n",
       "    <tr>\n",
       "      <th>5</th>\n",
       "      <td>Equity</td>\n",
       "      <td>Liabilities and Owners' Equity</td>\n",
       "    </tr>\n",
       "    <tr>\n",
       "      <th>16</th>\n",
       "      <td>Interest expenses</td>\n",
       "      <td>Sales, General, and Administrative Expenses</td>\n",
       "    </tr>\n",
       "    <tr>\n",
       "      <th>6</th>\n",
       "      <td>Liabilities</td>\n",
       "      <td>Liabilities and Owners' Equity</td>\n",
       "    </tr>\n",
       "    <tr>\n",
       "      <th>0</th>\n",
       "      <td>Long-term assets</td>\n",
       "      <td>Assets</td>\n",
       "    </tr>\n",
       "    <tr>\n",
       "      <th>17</th>\n",
       "      <td>Marketing expenses</td>\n",
       "      <td>Sales, General, and Administrative Expenses</td>\n",
       "    </tr>\n",
       "    <tr>\n",
       "      <th>26</th>\n",
       "      <td>SG&amp;A</td>\n",
       "      <td>Sales, General, and Administrative Expenses</td>\n",
       "    </tr>\n",
       "    <tr>\n",
       "      <th>12</th>\n",
       "      <td>None</td>\n",
       "      <td>Operating Expenses</td>\n",
       "    </tr>\n",
       "    <tr>\n",
       "      <th>15</th>\n",
       "      <td>None</td>\n",
       "      <td>Inventory Change</td>\n",
       "    </tr>\n",
       "    <tr>\n",
       "      <th>28</th>\n",
       "      <td>None</td>\n",
       "      <td>Revenues</td>\n",
       "    </tr>\n",
       "    <tr>\n",
       "      <th>29</th>\n",
       "      <td>None</td>\n",
       "      <td>Cost of Goods Sold</td>\n",
       "    </tr>\n",
       "  </tbody>\n",
       "</table>\n",
       "</div>"
      ],
      "text/plain": [
       "            FS_LEVEL_3                                   FS_LEVEL_2\n",
       "7       Current assets                                       Assets\n",
       "5               Equity               Liabilities and Owners' Equity\n",
       "16   Interest expenses  Sales, General, and Administrative Expenses\n",
       "6          Liabilities               Liabilities and Owners' Equity\n",
       "0     Long-term assets                                       Assets\n",
       "17  Marketing expenses  Sales, General, and Administrative Expenses\n",
       "26                SG&A  Sales, General, and Administrative Expenses\n",
       "12                None                           Operating Expenses\n",
       "15                None                             Inventory Change\n",
       "28                None                                     Revenues\n",
       "29                None                           Cost of Goods Sold"
      ]
     },
     "execution_count": 29,
     "metadata": {},
     "output_type": "execute_result"
    }
   ],
   "source": [
    "df_finance[['FS_LEVEL_3','FS_LEVEL_2']].drop_duplicates().sort_values(['FS_LEVEL_3'])\n",
    "#df_finance['FS_LEVEL_3'].unique()"
   ]
  },
  {
   "cell_type": "code",
   "execution_count": 30,
   "metadata": {
    "ExecuteTime": {
     "end_time": "2019-08-18T18:31:58.755633Z",
     "start_time": "2019-08-18T18:31:58.733709Z"
    },
    "collapsed": true
   },
   "outputs": [
    {
     "data": {
      "text/html": [
       "<div>\n",
       "<style scoped>\n",
       "    .dataframe tbody tr th:only-of-type {\n",
       "        vertical-align: middle;\n",
       "    }\n",
       "\n",
       "    .dataframe tbody tr th {\n",
       "        vertical-align: top;\n",
       "    }\n",
       "\n",
       "    .dataframe thead th {\n",
       "        text-align: right;\n",
       "    }\n",
       "</style>\n",
       "<table border=\"1\" class=\"dataframe\">\n",
       "  <thead>\n",
       "    <tr style=\"text-align: right;\">\n",
       "      <th></th>\n",
       "      <th></th>\n",
       "      <th>AMOUNT</th>\n",
       "    </tr>\n",
       "    <tr>\n",
       "      <th>SIM_ROUND</th>\n",
       "      <th>SIM_STEP</th>\n",
       "      <th></th>\n",
       "    </tr>\n",
       "  </thead>\n",
       "  <tbody>\n",
       "    <tr>\n",
       "      <th rowspan=\"20\" valign=\"top\">01</th>\n",
       "      <th>01</th>\n",
       "      <td>0.00</td>\n",
       "    </tr>\n",
       "    <tr>\n",
       "      <th>02</th>\n",
       "      <td>0.00</td>\n",
       "    </tr>\n",
       "    <tr>\n",
       "      <th>03</th>\n",
       "      <td>0.00</td>\n",
       "    </tr>\n",
       "    <tr>\n",
       "      <th>04</th>\n",
       "      <td>0.00</td>\n",
       "    </tr>\n",
       "    <tr>\n",
       "      <th>05</th>\n",
       "      <td>139973.10</td>\n",
       "    </tr>\n",
       "    <tr>\n",
       "      <th>06</th>\n",
       "      <td>29520.00</td>\n",
       "    </tr>\n",
       "    <tr>\n",
       "      <th>07</th>\n",
       "      <td>29520.00</td>\n",
       "    </tr>\n",
       "    <tr>\n",
       "      <th>08</th>\n",
       "      <td>12320.00</td>\n",
       "    </tr>\n",
       "    <tr>\n",
       "      <th>09</th>\n",
       "      <td>13938.54</td>\n",
       "    </tr>\n",
       "    <tr>\n",
       "      <th>10</th>\n",
       "      <td>160444.52</td>\n",
       "    </tr>\n",
       "    <tr>\n",
       "      <th>11</th>\n",
       "      <td>30330.04</td>\n",
       "    </tr>\n",
       "    <tr>\n",
       "      <th>12</th>\n",
       "      <td>29520.00</td>\n",
       "    </tr>\n",
       "    <tr>\n",
       "      <th>13</th>\n",
       "      <td>29520.00</td>\n",
       "    </tr>\n",
       "    <tr>\n",
       "      <th>14</th>\n",
       "      <td>29520.00</td>\n",
       "    </tr>\n",
       "    <tr>\n",
       "      <th>15</th>\n",
       "      <td>170188.72</td>\n",
       "    </tr>\n",
       "    <tr>\n",
       "      <th>16</th>\n",
       "      <td>29520.00</td>\n",
       "    </tr>\n",
       "    <tr>\n",
       "      <th>17</th>\n",
       "      <td>29520.00</td>\n",
       "    </tr>\n",
       "    <tr>\n",
       "      <th>18</th>\n",
       "      <td>19680.00</td>\n",
       "    </tr>\n",
       "    <tr>\n",
       "      <th>19</th>\n",
       "      <td>18480.00</td>\n",
       "    </tr>\n",
       "    <tr>\n",
       "      <th>20</th>\n",
       "      <td>179904.34</td>\n",
       "    </tr>\n",
       "    <tr>\n",
       "      <th rowspan=\"20\" valign=\"top\">02</th>\n",
       "      <th>01</th>\n",
       "      <td>17341.94</td>\n",
       "    </tr>\n",
       "    <tr>\n",
       "      <th>02</th>\n",
       "      <td>7139.44</td>\n",
       "    </tr>\n",
       "    <tr>\n",
       "      <th>03</th>\n",
       "      <td>20364.96</td>\n",
       "    </tr>\n",
       "    <tr>\n",
       "      <th>04</th>\n",
       "      <td>29073.66</td>\n",
       "    </tr>\n",
       "    <tr>\n",
       "      <th>05</th>\n",
       "      <td>240505.35</td>\n",
       "    </tr>\n",
       "    <tr>\n",
       "      <th>06</th>\n",
       "      <td>16784.46</td>\n",
       "    </tr>\n",
       "    <tr>\n",
       "      <th>07</th>\n",
       "      <td>20175.54</td>\n",
       "    </tr>\n",
       "    <tr>\n",
       "      <th>08</th>\n",
       "      <td>14620.00</td>\n",
       "    </tr>\n",
       "    <tr>\n",
       "      <th>09</th>\n",
       "      <td>29520.00</td>\n",
       "    </tr>\n",
       "    <tr>\n",
       "      <th>10</th>\n",
       "      <td>308713.05</td>\n",
       "    </tr>\n",
       "    <tr>\n",
       "      <th>11</th>\n",
       "      <td>29269.08</td>\n",
       "    </tr>\n",
       "    <tr>\n",
       "      <th>12</th>\n",
       "      <td>29770.92</td>\n",
       "    </tr>\n",
       "    <tr>\n",
       "      <th>13</th>\n",
       "      <td>26478.21</td>\n",
       "    </tr>\n",
       "    <tr>\n",
       "      <th>14</th>\n",
       "      <td>28473.27</td>\n",
       "    </tr>\n",
       "    <tr>\n",
       "      <th>15</th>\n",
       "      <td>305159.24</td>\n",
       "    </tr>\n",
       "    <tr>\n",
       "      <th>16</th>\n",
       "      <td>29520.00</td>\n",
       "    </tr>\n",
       "    <tr>\n",
       "      <th>17</th>\n",
       "      <td>28559.37</td>\n",
       "    </tr>\n",
       "    <tr>\n",
       "      <th>18</th>\n",
       "      <td>30480.63</td>\n",
       "    </tr>\n",
       "    <tr>\n",
       "      <th>19</th>\n",
       "      <td>27216.21</td>\n",
       "    </tr>\n",
       "    <tr>\n",
       "      <th>20</th>\n",
       "      <td>294447.52</td>\n",
       "    </tr>\n",
       "    <tr>\n",
       "      <th rowspan=\"20\" valign=\"top\">03</th>\n",
       "      <th>01</th>\n",
       "      <td>29520.00</td>\n",
       "    </tr>\n",
       "    <tr>\n",
       "      <th>02</th>\n",
       "      <td>29460.96</td>\n",
       "    </tr>\n",
       "    <tr>\n",
       "      <th>03</th>\n",
       "      <td>28782.00</td>\n",
       "    </tr>\n",
       "    <tr>\n",
       "      <th>04</th>\n",
       "      <td>23811.57</td>\n",
       "    </tr>\n",
       "    <tr>\n",
       "      <th>05</th>\n",
       "      <td>297893.90</td>\n",
       "    </tr>\n",
       "    <tr>\n",
       "      <th>06</th>\n",
       "      <td>57370.10</td>\n",
       "    </tr>\n",
       "    <tr>\n",
       "      <th>07</th>\n",
       "      <td>52258.63</td>\n",
       "    </tr>\n",
       "    <tr>\n",
       "      <th>08</th>\n",
       "      <td>21431.58</td>\n",
       "    </tr>\n",
       "    <tr>\n",
       "      <th>09</th>\n",
       "      <td>60968.02</td>\n",
       "    </tr>\n",
       "    <tr>\n",
       "      <th>10</th>\n",
       "      <td>285183.38</td>\n",
       "    </tr>\n",
       "    <tr>\n",
       "      <th>11</th>\n",
       "      <td>44359.28</td>\n",
       "    </tr>\n",
       "    <tr>\n",
       "      <th>12</th>\n",
       "      <td>63637.08</td>\n",
       "    </tr>\n",
       "    <tr>\n",
       "      <th>13</th>\n",
       "      <td>44903.94</td>\n",
       "    </tr>\n",
       "    <tr>\n",
       "      <th>14</th>\n",
       "      <td>0.00</td>\n",
       "    </tr>\n",
       "    <tr>\n",
       "      <th>15</th>\n",
       "      <td>268329.35</td>\n",
       "    </tr>\n",
       "    <tr>\n",
       "      <th>16</th>\n",
       "      <td>22493.78</td>\n",
       "    </tr>\n",
       "    <tr>\n",
       "      <th>17</th>\n",
       "      <td>20721.94</td>\n",
       "    </tr>\n",
       "    <tr>\n",
       "      <th>18</th>\n",
       "      <td>22923.18</td>\n",
       "    </tr>\n",
       "    <tr>\n",
       "      <th>19</th>\n",
       "      <td>0.00</td>\n",
       "    </tr>\n",
       "    <tr>\n",
       "      <th>20</th>\n",
       "      <td>241166.10</td>\n",
       "    </tr>\n",
       "    <tr>\n",
       "      <th>04</th>\n",
       "      <th>01</th>\n",
       "      <td>0.00</td>\n",
       "    </tr>\n",
       "  </tbody>\n",
       "</table>\n",
       "</div>"
      ],
      "text/plain": [
       "                       AMOUNT\n",
       "SIM_ROUND SIM_STEP           \n",
       "01        01             0.00\n",
       "          02             0.00\n",
       "          03             0.00\n",
       "          04             0.00\n",
       "          05        139973.10\n",
       "          06         29520.00\n",
       "          07         29520.00\n",
       "          08         12320.00\n",
       "          09         13938.54\n",
       "          10        160444.52\n",
       "          11         30330.04\n",
       "          12         29520.00\n",
       "          13         29520.00\n",
       "          14         29520.00\n",
       "          15        170188.72\n",
       "          16         29520.00\n",
       "          17         29520.00\n",
       "          18         19680.00\n",
       "          19         18480.00\n",
       "          20        179904.34\n",
       "02        01         17341.94\n",
       "          02          7139.44\n",
       "          03         20364.96\n",
       "          04         29073.66\n",
       "          05        240505.35\n",
       "          06         16784.46\n",
       "          07         20175.54\n",
       "          08         14620.00\n",
       "          09         29520.00\n",
       "          10        308713.05\n",
       "          11         29269.08\n",
       "          12         29770.92\n",
       "          13         26478.21\n",
       "          14         28473.27\n",
       "          15        305159.24\n",
       "          16         29520.00\n",
       "          17         28559.37\n",
       "          18         30480.63\n",
       "          19         27216.21\n",
       "          20        294447.52\n",
       "03        01         29520.00\n",
       "          02         29460.96\n",
       "          03         28782.00\n",
       "          04         23811.57\n",
       "          05        297893.90\n",
       "          06         57370.10\n",
       "          07         52258.63\n",
       "          08         21431.58\n",
       "          09         60968.02\n",
       "          10        285183.38\n",
       "          11         44359.28\n",
       "          12         63637.08\n",
       "          13         44903.94\n",
       "          14             0.00\n",
       "          15        268329.35\n",
       "          16         22493.78\n",
       "          17         20721.94\n",
       "          18         22923.18\n",
       "          19             0.00\n",
       "          20        241166.10\n",
       "04        01             0.00"
      ]
     },
     "execution_count": 30,
     "metadata": {},
     "output_type": "execute_result"
    }
   ],
   "source": [
    "#df_finance[['SIM_ROUND','SIM_STEP','FS_LEVEL_2','DEBIT_CREDIT_INDICATOR','AMOUNT_ABS']]pi\n",
    "pd.pivot_table(df_finance[['SIM_ROUND','SIM_STEP','FS_LEVEL_2','AMOUNT']][df_finance['FS_LEVEL_2'].isin([\"Sales, General, and Administrative Expenses\",\"Operating Expenses\",\"Cost of Goods Sold\"])],\n",
    "               values='AMOUNT',index=['SIM_ROUND','SIM_STEP'], aggfunc=np.sum).fillna(0)"
   ]
  },
  {
   "cell_type": "markdown",
   "metadata": {},
   "source": [
    "# Tableau de bord pour les ventes "
   ]
  },
  {
   "cell_type": "code",
   "execution_count": 31,
   "metadata": {
    "ExecuteTime": {
     "end_time": "2019-08-18T18:31:58.961352Z",
     "start_time": "2019-08-18T18:31:58.756810Z"
    }
   },
   "outputs": [
    {
     "data": {
      "application/vnd.jupyter.widget-view+json": {
       "model_id": "755df3d95b5448098312793455abc0a3",
       "version_major": 2,
       "version_minor": 0
      },
      "text/plain": [
       "interactive(children=(Dropdown(description='valeur', options=('NET_VALUE', 'QUANTITY', 'NET_PRICE', 'unit_cost…"
      ]
     },
     "metadata": {},
     "output_type": "display_data"
    }
   ],
   "source": [
    "@interact\n",
    "def croise_dynamique(valeur=['NET_VALUE','QUANTITY','NET_PRICE','unit_cost'],\n",
    "                    colonne1 = ['aucune','DISTRIBUTION_CHANNEL','MATERIAL_CODE','AREA', 'CITY','REGION','MATERIAL_DESCRIPTION'],\n",
    "                    colonne2 = ['aucune','DISTRIBUTION_CHANNEL','MATERIAL_CODE','AREA', 'CITY','REGION','MATERIAL_DESCRIPTION']):\n",
    "    \n",
    "    type_graph = 'line'\n",
    "    taille_graph = (15,6)\n",
    "    nb_lignes_table = 30\n",
    "    \n",
    "    if valeur in ('NET_PRICE','unit_cost'):\n",
    "        aggregate = np.average\n",
    "    else:\n",
    "        aggregate = np.sum\n",
    "    if colonne1 == 'aucune' and colonne2 == 'aucune':\n",
    "        pd.pivot_table(df_sales,values=valeur,index=['SIM_ROUND','SIM_STEP'], aggfunc=aggregate).fillna(0).plot(kind= type_graph,figsize=taille_graph)   \n",
    "        plt.legend(loc='center left', bbox_to_anchor=(1.0, 0.5))\n",
    "        plt.show()\n",
    "        return pd.pivot_table(df_sales,values=valeur,index=['SIM_ROUND','SIM_STEP'], aggfunc=aggregate).fillna(0)[-1*nb_lignes_table:]\n",
    "    else:\n",
    "        if colonne2 == 'aucune':\n",
    "            colonnes = [colonne1]\n",
    "        else:\n",
    "            colonnes = [colonne1,colonne2]\n",
    "        pd.pivot_table(df_sales,values=valeur,index=['SIM_ROUND','SIM_STEP'], columns=colonnes, aggfunc=aggregate).fillna(0).plot(kind= type_graph,figsize=taille_graph)\n",
    "        plt.legend(loc='center left', bbox_to_anchor=(1.0, 0.5))\n",
    "        plt.show()\n",
    "        return pd.pivot_table(df_sales,values=valeur,index=['SIM_ROUND','SIM_STEP'], columns=colonnes, aggfunc=aggregate).fillna(0)[-1*nb_lignes_table:]"
   ]
  },
  {
   "cell_type": "code",
   "execution_count": 35,
   "metadata": {
    "ExecuteTime": {
     "end_time": "2019-08-18T18:32:41.032399Z",
     "start_time": "2019-08-18T18:32:40.793301Z"
    },
    "scrolled": false
   },
   "outputs": [
    {
     "data": {
      "application/vnd.jupyter.widget-view+json": {
       "model_id": "fc0688c3f9f74ad4b712b167f1259e09",
       "version_major": 2,
       "version_minor": 0
      },
      "text/plain": [
       "interactive(children=(Dropdown(description='valeur', options=('NET_VALUE', 'QUANTITY', 'AVERAGE_PRICE'), value…"
      ]
     },
     "metadata": {},
     "output_type": "display_data"
    }
   ],
   "source": [
    "@interact\n",
    "def croise_market(valeur=['NET_VALUE','QUANTITY','AVERAGE_PRICE'],\n",
    "                    colonne1 = ['aucune','DISTRIBUTION_CHANNEL','SALES_ORGANIZATION','AREA','MATERIAL_DESCRIPTION'],\n",
    "                    colonne2 = ['aucune','DISTRIBUTION_CHANNEL','SALES_ORGANIZATION','AREA','MATERIAL_DESCRIPTION']):\n",
    "    \n",
    "    type_graph = 'bar'\n",
    "    taille_graph = (15,6)\n",
    "    \n",
    "    if valeur == 'AVERAGE_PRICE':\n",
    "        aggregate = np.average\n",
    "    else:\n",
    "        aggregate = np.sum\n",
    "        \n",
    "    #if colonne1 == 'SALES_ORGANIZATION' or colonne2 == 'SALES_ORGANIZATION':\n",
    "    #    aggregate = np.p\n",
    "        \n",
    "    if colonne1 == 'aucune' and colonne2 == 'aucune':\n",
    "        pd.pivot_table(df_market,values=valeur,index=['SIM_ROUND','SIM_PERIOD'], aggfunc=aggregate).fillna(0).plot(kind= type_graph,figsize=taille_graph)\n",
    "        plt.legend(loc='center left', bbox_to_anchor=(1.0, 0.5))\n",
    "        plt.show()\n",
    "        return pd.pivot_table(df_market,values=valeur,index=['SIM_ROUND','SIM_PERIOD'], aggfunc=aggregate).fillna(0)\n",
    "    else:\n",
    "        if colonne2 == 'aucune':\n",
    "            colonnes = [colonne1]\n",
    "        else:\n",
    "            colonnes = [colonne1,colonne2]\n",
    "        pd.pivot_table(df_market,values=valeur,index=['SIM_ROUND','SIM_PERIOD'], columns=colonnes, aggfunc=aggregate).fillna(0).plot(kind= type_graph,figsize=taille_graph)\n",
    "        plt.legend(loc='center left', bbox_to_anchor=(1.0, 0.5))\n",
    "        plt.show()\n",
    "        return pd.pivot_table(df_market,values=valeur,index=['SIM_ROUND','SIM_PERIOD'], columns=colonnes, aggfunc=aggregate).fillna(0)"
   ]
  },
  {
   "cell_type": "code",
   "execution_count": 33,
   "metadata": {
    "ExecuteTime": {
     "end_time": "2019-08-18T18:31:59.233217Z",
     "start_time": "2019-08-18T18:31:59.206249Z"
    }
   },
   "outputs": [],
   "source": [
    "A = pd.pivot_table(df_sales[['SIM_ROUND','SIM_STEP','COST','QUANTITY']],\n",
    "         values=\"COST\",index=['SIM_ROUND','SIM_STEP'],aggfunc=np.sum).fillna(0)\n",
    "B = pd.pivot_table(df_sales[['SIM_ROUND','SIM_STEP','COST','QUANTITY']],\n",
    "         values=\"QUANTITY\",index=['SIM_ROUND','SIM_STEP'],aggfunc=np.sum).fillna(0)\n",
    "C = A.merge(B,on=['SIM_ROUND','SIM_STEP'])\n"
   ]
  },
  {
   "cell_type": "markdown",
   "metadata": {
    "ExecuteTime": {
     "end_time": "2019-08-18T18:31:59.244744Z",
     "start_time": "2019-08-18T18:31:59.234250Z"
    }
   },
   "source": [
    "## Parts de marchés"
   ]
  },
  {
   "cell_type": "code",
   "execution_count": 37,
   "metadata": {
    "ExecuteTime": {
     "end_time": "2019-08-18T18:37:41.437122Z",
     "start_time": "2019-08-18T18:37:41.189626Z"
    }
   },
   "outputs": [
    {
     "data": {
      "application/vnd.jupyter.widget-view+json": {
       "model_id": "8b8ee3eba1bf4e4683a6e8cf423ea7f5",
       "version_major": 2,
       "version_minor": 0
      },
      "text/plain": [
       "interactive(children=(Dropdown(description='valeur', options=('share_value', 'share_quantity', 'NET_VALUE', 'Q…"
      ]
     },
     "metadata": {},
     "output_type": "display_data"
    }
   ],
   "source": [
    "@interact\n",
    "def croise_market_market(valeur=['share_value','share_quantity','NET_VALUE','QUANTITY','AVERAGE_PRICE'],\n",
    "                    colonne1 = ['aucune','DISTRIBUTION_CHANNEL','AREA','MATERIAL_DESCRIPTION'],\n",
    "                    colonne2 = ['aucune','DISTRIBUTION_CHANNEL','AREA','MATERIAL_DESCRIPTION']):\n",
    "    \n",
    "    type_graph = 'bar'\n",
    "    taille_graph = (15,6)\n",
    "    \n",
    "    if valeur == 'AVERAGE_PRICE':\n",
    "        aggregate = np.average\n",
    "    else:\n",
    "        aggregate = np.sum\n",
    "        \n",
    "    #if colonne1 == 'SALES_ORGANIZATION' or colonne2 == 'SALES_ORGANIZATION':\n",
    "    #    aggregate = np.p\n",
    "        \n",
    "    if colonne1 == 'aucune' and colonne2 == 'aucune':\n",
    "        pd.pivot_table(df_market_share,values=valeur,index=['SIM_ROUND','SIM_PERIOD'], aggfunc=aggregate).fillna(0).plot(kind= type_graph,figsize=taille_graph)\n",
    "        plt.legend(loc='center left', bbox_to_anchor=(1.0, 0.5))\n",
    "        plt.show()\n",
    "        return pd.pivot_table(df_market_share,values=valeur,index=['SIM_ROUND','SIM_PERIOD'], aggfunc=aggregate).fillna(0)\n",
    "    else:\n",
    "        if colonne2 == 'aucune':\n",
    "            colonnes = [colonne1]\n",
    "        else:\n",
    "            colonnes = [colonne1,colonne2]\n",
    "        pd.pivot_table(df_market_share,values=valeur,index=['SIM_ROUND','SIM_PERIOD'], columns=colonnes, aggfunc=aggregate).fillna(0).plot(kind= type_graph,figsize=taille_graph)\n",
    "        plt.legend(loc='center left', bbox_to_anchor=(1.0, 0.5))\n",
    "        plt.show()\n",
    "        return pd.pivot_table(df_market_share,values=valeur,index=['SIM_ROUND','SIM_PERIOD'], columns=colonnes, aggfunc=aggregate).fillna(0)"
   ]
  },
  {
   "cell_type": "code",
   "execution_count": null,
   "metadata": {},
   "outputs": [],
   "source": []
  }
 ],
 "metadata": {
  "kernelspec": {
   "display_name": "Python 3",
   "language": "python",
   "name": "python3"
  },
  "language_info": {
   "codemirror_mode": {
    "name": "ipython",
    "version": 3
   },
   "file_extension": ".py",
   "mimetype": "text/x-python",
   "name": "python",
   "nbconvert_exporter": "python",
   "pygments_lexer": "ipython3",
   "version": "3.6.7"
  },
  "varInspector": {
   "cols": {
    "lenName": 16,
    "lenType": 16,
    "lenVar": 40
   },
   "kernels_config": {
    "python": {
     "delete_cmd_postfix": "",
     "delete_cmd_prefix": "del ",
     "library": "var_list.py",
     "varRefreshCmd": "print(var_dic_list())"
    },
    "r": {
     "delete_cmd_postfix": ") ",
     "delete_cmd_prefix": "rm(",
     "library": "var_list.r",
     "varRefreshCmd": "cat(var_dic_list()) "
    }
   },
   "types_to_exclude": [
    "module",
    "function",
    "builtin_function_or_method",
    "instance",
    "_Feature"
   ],
   "window_display": false
  }
 },
 "nbformat": 4,
 "nbformat_minor": 2
}
